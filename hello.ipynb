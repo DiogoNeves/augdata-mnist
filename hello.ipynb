{
 "metadata": {
  "language_info": {
   "codemirror_mode": {
    "name": "ipython",
    "version": 3
   },
   "file_extension": ".py",
   "mimetype": "text/x-python",
   "name": "python",
   "nbconvert_exporter": "python",
   "pygments_lexer": "ipython3",
   "version": "3.8.5-final"
  },
  "orig_nbformat": 2,
  "kernelspec": {
   "name": "python38564bitvenvd2c6aa757a7a4182b77f6419bbecc6c9",
   "display_name": "Python 3.8.5 64-bit ('.venv')",
   "language": "python"
  }
 },
 "nbformat": 4,
 "nbformat_minor": 2,
 "cells": [
  {
   "cell_type": "code",
   "execution_count": 1,
   "metadata": {},
   "outputs": [
    {
     "output_type": "stream",
     "name": "stdout",
     "text": [
      "Hello World\n"
     ]
    }
   ],
   "source": [
    "print(\"Hello World\")"
   ]
  },
  {
   "cell_type": "code",
   "execution_count": 2,
   "metadata": {},
   "outputs": [],
   "source": [
    "from pprint import pprint\n",
    "import numpy as np\n",
    "import tensorflow as tf\n",
    "from tensorflow import keras\n",
    "from tensorboard import notebook\n",
    "%load_ext tensorboard"
   ]
  },
  {
   "cell_type": "code",
   "execution_count": 3,
   "metadata": {},
   "outputs": [
    {
     "output_type": "stream",
     "name": "stdout",
     "text": [
      "Model: \"model\"\n",
      "_________________________________________________________________\n",
      "Layer (type)                 Output Shape              Param #   \n",
      "=================================================================\n",
      "input_1 (InputLayer)         [(None, 28, 28)]          0         \n",
      "_________________________________________________________________\n",
      "rescaling (Rescaling)        (None, 28, 28)            0         \n",
      "_________________________________________________________________\n",
      "flatten (Flatten)            (None, 784)               0         \n",
      "_________________________________________________________________\n",
      "dense (Dense)                (None, 128)               100480    \n",
      "_________________________________________________________________\n",
      "dense_1 (Dense)              (None, 128)               16512     \n",
      "_________________________________________________________________\n",
      "dense_2 (Dense)              (None, 10)                1290      \n",
      "=================================================================\n",
      "Total params: 118,282\n",
      "Trainable params: 118,282\n",
      "Non-trainable params: 0\n",
      "_________________________________________________________________\n",
      "Epoch 1/2\n",
      "938/938 [==============================] - 2s 2ms/step - loss: 0.5014 - val_loss: 0.1603\n",
      "Epoch 2/2\n",
      "938/938 [==============================] - 1s 1ms/step - loss: 0.1319 - val_loss: 0.1113\n",
      "{'loss': [0.28572842478752136, 0.1198928952217102],\n",
      " 'val_loss': [0.1603347510099411, 0.11129151284694672]}\n"
     ]
    }
   ],
   "source": [
    "class Model:\n",
    "    def __init__(self):\n",
    "        pass\n",
    "\n",
    "    @staticmethod\n",
    "    def build() -> keras.Model:\n",
    "        inputs = keras.Input(shape=(28, 28))\n",
    "        x = keras.layers.experimental.preprocessing.Rescaling(1.0 / 255)(inputs)\n",
    "        x = keras.layers.Flatten()(x)\n",
    "        x = keras.layers.Dense(128, activation=\"relu\")(x)\n",
    "        x = keras.layers.Dense(128, activation=\"relu\")(x)\n",
    "        outputs = keras.layers.Dense(10, activation=\"softmax\")(x)\n",
    "\n",
    "        model = keras.Model(inputs=inputs, outputs=outputs)\n",
    "        model.compile(optimizer=keras.optimizers.Adam(), loss=keras.losses.SparseCategoricalCrossentropy())\n",
    "\n",
    "        return model\n",
    "\n",
    "    @staticmethod\n",
    "    def train(model: \"Model\",\n",
    "              dataset: tf.data.Dataset,\n",
    "              validation_dataset: tf.data.Dataset = None,\n",
    "              epochs: int = 1) -> keras.callbacks.History:\n",
    "        callbacks = [\n",
    "            keras.callbacks.TensorBoard(log_dir='./logs')\n",
    "        ]\n",
    "        return model.fit(dataset, epochs=epochs, callbacks=callbacks, validation_data=validation_dataset)\n",
    "\n",
    "\n",
    "# Example\n",
    "model = Model.build()\n",
    "model.summary()\n",
    "\n",
    "(x_train, y_train), (x_test, y_test) = keras.datasets.mnist.load_data()\n",
    "batch_size = 64\n",
    "dataset = tf.data.Dataset.from_tensor_slices((x_train, y_train)).batch(batch_size)\n",
    "val_dataset = tf.data.Dataset.from_tensor_slices((x_test, y_test)).batch(batch_size)\n",
    "history = Model.train(model, dataset, val_dataset, 2)\n",
    "\n",
    "pprint(history.history)"
   ]
  },
  {
   "cell_type": "code",
   "execution_count": 4,
   "metadata": {},
   "outputs": [
    {
     "output_type": "display_data",
     "data": {
      "text/plain": "Reusing TensorBoard on port 6006 (pid 12263), started 0:56:28 ago. (Use '!kill 12263' to kill it.)"
     },
     "metadata": {}
    }
   ],
   "source": [
    "%tensorboard --logdir ./logs\n",
    "notebook.list()"
   ]
  },
  {
   "cell_type": "code",
   "execution_count": null,
   "metadata": {},
   "outputs": [],
   "source": []
  }
 ]
}