{
 "metadata": {
  "language_info": {
   "codemirror_mode": {
    "name": "ipython",
    "version": 3
   },
   "file_extension": ".py",
   "mimetype": "text/x-python",
   "name": "python",
   "nbconvert_exporter": "python",
   "pygments_lexer": "ipython3",
   "version": "3.8.5-final"
  },
  "orig_nbformat": 2,
  "kernelspec": {
   "name": "python38564bitvenvd2c6aa757a7a4182b77f6419bbecc6c9",
   "display_name": "Python 3.8.5 64-bit ('.venv')",
   "language": "python"
  }
 },
 "nbformat": 4,
 "nbformat_minor": 2,
 "cells": [
  {
   "cell_type": "code",
   "execution_count": 1,
   "metadata": {},
   "outputs": [],
   "source": [
    "import numpy as np\n",
    "from tensorflow import keras\n",
    "from tensorflow.keras import layers\n",
    "import matplotlib.pyplot as plt\n",
    "\n",
    "np.random.seed(10)"
   ]
  },
  {
   "cell_type": "code",
   "execution_count": 2,
   "metadata": {},
   "outputs": [],
   "source": [
    "def view_images(dataset, size):\n",
    "    images, labels = dataset\n",
    "    assert images.shape[0] == labels.shape[0]\n",
    "\n",
    "    num_images = images.shape[0]\n",
    "    num_cols = 3\n",
    "    num_rows = np.ceil(num_images / num_cols).astype(\"int\")\n",
    "    plt.figure(figsize=size)\n",
    "    for i in range(num_images):\n",
    "        image = images[i]\n",
    "        label = labels[i]\n",
    "        ax = plt.subplot(num_rows, num_cols, i + 1)\n",
    "        plt.imshow(np.array(image, dtype=\"float\"))\n",
    "        plt.title(\"Number: \" + str(label))\n",
    "        plt.axis(\"off\")"
   ]
  },
  {
   "cell_type": "code",
   "execution_count": 3,
   "metadata": {},
   "outputs": [],
   "source": [
    "def normalise(dataset):\n",
    "    # Scale images to the [0, 1] range\n",
    "    dataset = dataset.astype(\"float32\") / 255\n",
    "    # Make sure images have shape (28, 28, 1)\n",
    "    return np.expand_dims(dataset, -1)"
   ]
  },
  {
   "cell_type": "code",
   "execution_count": 31,
   "metadata": {},
   "outputs": [],
   "source": [
    "def sample(dataset, fraction):\n",
    "    def _get_sample_mask():\n",
    "        num_of_samples = np.round(num_datapoints*fraction).astype(\"int\")\n",
    "        mask = np.zeros(num_datapoints, dtype=\"bool\")\n",
    "        mask[:num_of_samples] = True\n",
    "        np.random.default_rng().shuffle(mask)\n",
    "        return mask\n",
    "\n",
    "    x, y = dataset\n",
    "    assert x.shape[0] == y.shape[0]\n",
    "\n",
    "    num_datapoints = x.shape[0]\n",
    "    # Create a mask of 0s and 1s with the right distribution (as requested in fraction)\n",
    "    sample_mask = _get_sample_mask()\n",
    "    # Sample from the dataset, using the mask\n",
    "    x_sampled = x.compress(sample_mask, axis=0)\n",
    "    y_sampled = y.compress(sample_mask, axis=0)\n",
    "    # Flip the mask and do it again to get the not sampled\n",
    "    x_not_sampled = x.compress(1 - sample_mask, axis=0)\n",
    "    y_not_sampled = y.compress(1 - sample_mask, axis=0)\n",
    "    \"\"\" Example\n",
    "    If original dataset is: [1, 2, 3, 4, 5] with a fraction of 0.2\n",
    "    We might get a sample_mask like [0, 0, 1, 0, 0].\n",
    "\n",
    "    sampled will thus be [3]\n",
    "    and not_sampled [1, 2, 4, 5], by flipping the bits to [1, 1, 0, 1, 1]\n",
    "    \"\"\"\n",
    "    return (x_sampled, y_sampled), (x_not_sampled, y_not_sampled)\n",
    "\n",
    "def choice(dataset, size):\n",
    "    x, y = dataset\n",
    "    assert x.shape[0] == y.shape[0]\n",
    "\n",
    "    num_datapoints = x.shape[0]\n",
    "    mask = np.zeros(num_datapoints).astype(\"bool\")\n",
    "    mask[:size] = True\n",
    "    np.random.default_rng().shuffle(mask)\n",
    "    return x.compress(mask, axis=0), y.compress(mask, axis=0)"
   ]
  },
  {
   "cell_type": "code",
   "execution_count": 5,
   "metadata": {},
   "outputs": [],
   "source": [
    "def print_dataset_summary(name, dataset):\n",
    "    print(name + \" shape:\", dataset.shape)"
   ]
  },
  {
   "cell_type": "code",
   "execution_count": 36,
   "metadata": {
    "tags": []
   },
   "outputs": [
    {
     "output_type": "stream",
     "name": "stdout",
     "text": [
      "x_augment shape: (6000, 28, 28, 1)\nx_train shape: (54000, 28, 28, 1)\ny_train shape: (54000,)\nx_train shape: (60000, 28, 28, 1)\ny_train shape: (60000,)\nx_test shape: (10000, 28, 28, 1)\n"
     ]
    },
    {
     "output_type": "display_data",
     "data": {
      "text/plain": "<Figure size 864x864 with 3 Axes>",
      "image/svg+xml": "<?xml version=\"1.0\" encoding=\"utf-8\" standalone=\"no\"?>\n<!DOCTYPE svg PUBLIC \"-//W3C//DTD SVG 1.1//EN\"\n  \"http://www.w3.org/Graphics/SVG/1.1/DTD/svg11.dtd\">\n<!-- Created with matplotlib (https://matplotlib.org/) -->\n<svg height=\"226.459301pt\" version=\"1.1\" viewBox=\"0 0 684 226.459301\" width=\"684pt\" xmlns=\"http://www.w3.org/2000/svg\" xmlns:xlink=\"http://www.w3.org/1999/xlink\">\n <metadata>\n  <rdf:RDF xmlns:cc=\"http://creativecommons.org/ns#\" xmlns:dc=\"http://purl.org/dc/elements/1.1/\" xmlns:rdf=\"http://www.w3.org/1999/02/22-rdf-syntax-ns#\">\n   <cc:Work>\n    <dc:type rdf:resource=\"http://purl.org/dc/dcmitype/StillImage\"/>\n    <dc:date>2021-03-28T18:10:54.544942</dc:date>\n    <dc:format>image/svg+xml</dc:format>\n    <dc:creator>\n     <cc:Agent>\n      <dc:title>Matplotlib v3.3.4, https://matplotlib.org/</dc:title>\n     </cc:Agent>\n    </dc:creator>\n   </cc:Work>\n  </rdf:RDF>\n </metadata>\n <defs>\n  <style type=\"text/css\">*{stroke-linecap:butt;stroke-linejoin:round;}</style>\n </defs>\n <g id=\"figure_1\">\n  <g id=\"patch_1\">\n   <path d=\"M 0 226.459301 \nL 684 226.459301 \nL 684 0 \nL 0 0 \nz\n\" style=\"fill:none;\"/>\n  </g>\n  <g id=\"axes_1\">\n   <g clip-path=\"url(#p7262027cb9)\">\n    <image height=\"197\" id=\"image5788be9a78\" transform=\"scale(1 -1)translate(0 -197)\" width=\"197\" x=\"7.2\" xlink:href=\"data:image/png;base64,\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\" y=\"-22.259301\"/>\n   </g>\n   <g id=\"text_1\">\n    <!-- Number: 2 -->\n    <g transform=\"translate(73.926838 16.318125)scale(0.12 -0.12)\">\n     <defs>\n      <path d=\"M 9.8125 72.90625 \nL 23.09375 72.90625 \nL 55.421875 11.921875 \nL 55.421875 72.90625 \nL 64.984375 72.90625 \nL 64.984375 0 \nL 51.703125 0 \nL 19.390625 60.984375 \nL 19.390625 0 \nL 9.8125 0 \nz\n\" id=\"DejaVuSans-78\"/>\n      <path d=\"M 8.5 21.578125 \nL 8.5 54.6875 \nL 17.484375 54.6875 \nL 17.484375 21.921875 \nQ 17.484375 14.15625 20.5 10.265625 \nQ 23.53125 6.390625 29.59375 6.390625 \nQ 36.859375 6.390625 41.078125 11.03125 \nQ 45.3125 15.671875 45.3125 23.6875 \nL 45.3125 54.6875 \nL 54.296875 54.6875 \nL 54.296875 0 \nL 45.3125 0 \nL 45.3125 8.40625 \nQ 42.046875 3.421875 37.71875 1 \nQ 33.40625 -1.421875 27.6875 -1.421875 \nQ 18.265625 -1.421875 13.375 4.4375 \nQ 8.5 10.296875 8.5 21.578125 \nz\nM 31.109375 56 \nz\n\" id=\"DejaVuSans-117\"/>\n      <path d=\"M 52 44.1875 \nQ 55.375 50.25 60.0625 53.125 \nQ 64.75 56 71.09375 56 \nQ 79.640625 56 84.28125 50.015625 \nQ 88.921875 44.046875 88.921875 33.015625 \nL 88.921875 0 \nL 79.890625 0 \nL 79.890625 32.71875 \nQ 79.890625 40.578125 77.09375 44.375 \nQ 74.3125 48.1875 68.609375 48.1875 \nQ 61.625 48.1875 57.5625 43.546875 \nQ 53.515625 38.921875 53.515625 30.90625 \nL 53.515625 0 \nL 44.484375 0 \nL 44.484375 32.71875 \nQ 44.484375 40.625 41.703125 44.40625 \nQ 38.921875 48.1875 33.109375 48.1875 \nQ 26.21875 48.1875 22.15625 43.53125 \nQ 18.109375 38.875 18.109375 30.90625 \nL 18.109375 0 \nL 9.078125 0 \nL 9.078125 54.6875 \nL 18.109375 54.6875 \nL 18.109375 46.1875 \nQ 21.1875 51.21875 25.484375 53.609375 \nQ 29.78125 56 35.6875 56 \nQ 41.65625 56 45.828125 52.96875 \nQ 50 49.953125 52 44.1875 \nz\n\" id=\"DejaVuSans-109\"/>\n      <path d=\"M 48.6875 27.296875 \nQ 48.6875 37.203125 44.609375 42.84375 \nQ 40.53125 48.484375 33.40625 48.484375 \nQ 26.265625 48.484375 22.1875 42.84375 \nQ 18.109375 37.203125 18.109375 27.296875 \nQ 18.109375 17.390625 22.1875 11.75 \nQ 26.265625 6.109375 33.40625 6.109375 \nQ 40.53125 6.109375 44.609375 11.75 \nQ 48.6875 17.390625 48.6875 27.296875 \nz\nM 18.109375 46.390625 \nQ 20.953125 51.265625 25.265625 53.625 \nQ 29.59375 56 35.59375 56 \nQ 45.5625 56 51.78125 48.09375 \nQ 58.015625 40.1875 58.015625 27.296875 \nQ 58.015625 14.40625 51.78125 6.484375 \nQ 45.5625 -1.421875 35.59375 -1.421875 \nQ 29.59375 -1.421875 25.265625 0.953125 \nQ 20.953125 3.328125 18.109375 8.203125 \nL 18.109375 0 \nL 9.078125 0 \nL 9.078125 75.984375 \nL 18.109375 75.984375 \nz\n\" id=\"DejaVuSans-98\"/>\n      <path d=\"M 56.203125 29.59375 \nL 56.203125 25.203125 \nL 14.890625 25.203125 \nQ 15.484375 15.921875 20.484375 11.0625 \nQ 25.484375 6.203125 34.421875 6.203125 \nQ 39.59375 6.203125 44.453125 7.46875 \nQ 49.3125 8.734375 54.109375 11.28125 \nL 54.109375 2.78125 \nQ 49.265625 0.734375 44.1875 -0.34375 \nQ 39.109375 -1.421875 33.890625 -1.421875 \nQ 20.796875 -1.421875 13.15625 6.1875 \nQ 5.515625 13.8125 5.515625 26.8125 \nQ 5.515625 40.234375 12.765625 48.109375 \nQ 20.015625 56 32.328125 56 \nQ 43.359375 56 49.78125 48.890625 \nQ 56.203125 41.796875 56.203125 29.59375 \nz\nM 47.21875 32.234375 \nQ 47.125 39.59375 43.09375 43.984375 \nQ 39.0625 48.390625 32.421875 48.390625 \nQ 24.90625 48.390625 20.390625 44.140625 \nQ 15.875 39.890625 15.1875 32.171875 \nz\n\" id=\"DejaVuSans-101\"/>\n      <path d=\"M 41.109375 46.296875 \nQ 39.59375 47.171875 37.8125 47.578125 \nQ 36.03125 48 33.890625 48 \nQ 26.265625 48 22.1875 43.046875 \nQ 18.109375 38.09375 18.109375 28.8125 \nL 18.109375 0 \nL 9.078125 0 \nL 9.078125 54.6875 \nL 18.109375 54.6875 \nL 18.109375 46.1875 \nQ 20.953125 51.171875 25.484375 53.578125 \nQ 30.03125 56 36.53125 56 \nQ 37.453125 56 38.578125 55.875 \nQ 39.703125 55.765625 41.0625 55.515625 \nz\n\" id=\"DejaVuSans-114\"/>\n      <path d=\"M 11.71875 12.40625 \nL 22.015625 12.40625 \nL 22.015625 0 \nL 11.71875 0 \nz\nM 11.71875 51.703125 \nL 22.015625 51.703125 \nL 22.015625 39.3125 \nL 11.71875 39.3125 \nz\n\" id=\"DejaVuSans-58\"/>\n      <path id=\"DejaVuSans-32\"/>\n      <path d=\"M 19.1875 8.296875 \nL 53.609375 8.296875 \nL 53.609375 0 \nL 7.328125 0 \nL 7.328125 8.296875 \nQ 12.9375 14.109375 22.625 23.890625 \nQ 32.328125 33.6875 34.8125 36.53125 \nQ 39.546875 41.84375 41.421875 45.53125 \nQ 43.3125 49.21875 43.3125 52.78125 \nQ 43.3125 58.59375 39.234375 62.25 \nQ 35.15625 65.921875 28.609375 65.921875 \nQ 23.96875 65.921875 18.8125 64.3125 \nQ 13.671875 62.703125 7.8125 59.421875 \nL 7.8125 69.390625 \nQ 13.765625 71.78125 18.9375 73 \nQ 24.125 74.21875 28.421875 74.21875 \nQ 39.75 74.21875 46.484375 68.546875 \nQ 53.21875 62.890625 53.21875 53.421875 \nQ 53.21875 48.921875 51.53125 44.890625 \nQ 49.859375 40.875 45.40625 35.40625 \nQ 44.1875 33.984375 37.640625 27.21875 \nQ 31.109375 20.453125 19.1875 8.296875 \nz\n\" id=\"DejaVuSans-50\"/>\n     </defs>\n     <use xlink:href=\"#DejaVuSans-78\"/>\n     <use x=\"74.804688\" xlink:href=\"#DejaVuSans-117\"/>\n     <use x=\"138.183594\" xlink:href=\"#DejaVuSans-109\"/>\n     <use x=\"235.595703\" xlink:href=\"#DejaVuSans-98\"/>\n     <use x=\"299.072266\" xlink:href=\"#DejaVuSans-101\"/>\n     <use x=\"360.595703\" xlink:href=\"#DejaVuSans-114\"/>\n     <use x=\"399.958984\" xlink:href=\"#DejaVuSans-58\"/>\n     <use x=\"433.650391\" xlink:href=\"#DejaVuSans-32\"/>\n     <use x=\"465.4375\" xlink:href=\"#DejaVuSans-50\"/>\n    </g>\n   </g>\n  </g>\n  <g id=\"axes_2\">\n   <g clip-path=\"url(#p5eba0255b0)\">\n    <image height=\"197\" id=\"imageb44e0cf013\" transform=\"scale(1 -1)translate(0 -197)\" width=\"197\" x=\"243.529412\" xlink:href=\"data:image/png;base64,\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\" y=\"-22.259301\"/>\n   </g>\n   <g id=\"text_2\">\n    <!-- Number: 4 -->\n    <g transform=\"translate(310.25625 16.318125)scale(0.12 -0.12)\">\n     <defs>\n      <path d=\"M 37.796875 64.3125 \nL 12.890625 25.390625 \nL 37.796875 25.390625 \nz\nM 35.203125 72.90625 \nL 47.609375 72.90625 \nL 47.609375 25.390625 \nL 58.015625 25.390625 \nL 58.015625 17.1875 \nL 47.609375 17.1875 \nL 47.609375 0 \nL 37.796875 0 \nL 37.796875 17.1875 \nL 4.890625 17.1875 \nL 4.890625 26.703125 \nz\n\" id=\"DejaVuSans-52\"/>\n     </defs>\n     <use xlink:href=\"#DejaVuSans-78\"/>\n     <use x=\"74.804688\" xlink:href=\"#DejaVuSans-117\"/>\n     <use x=\"138.183594\" xlink:href=\"#DejaVuSans-109\"/>\n     <use x=\"235.595703\" xlink:href=\"#DejaVuSans-98\"/>\n     <use x=\"299.072266\" xlink:href=\"#DejaVuSans-101\"/>\n     <use x=\"360.595703\" xlink:href=\"#DejaVuSans-114\"/>\n     <use x=\"399.958984\" xlink:href=\"#DejaVuSans-58\"/>\n     <use x=\"433.650391\" xlink:href=\"#DejaVuSans-32\"/>\n     <use x=\"465.4375\" xlink:href=\"#DejaVuSans-52\"/>\n    </g>\n   </g>\n  </g>\n  <g id=\"axes_3\">\n   <g clip-path=\"url(#pf5cc2f95e2)\">\n    <image height=\"197\" id=\"imagefcc66858a0\" transform=\"scale(1 -1)translate(0 -197)\" width=\"197\" x=\"479.858824\" xlink:href=\"data:image/png;base64,\niVBORw0KGgoAAAANSUhEUgAAAMUAAADFCAYAAADkODbwAAAFO0lEQVR4nO3de6jfcxzH8e9v54xtYpujVjtuoQ0ljAwpjQn/mZSSXP5Royn+kvKXQrFMriWUS0KU5k4af5hYIXNNWG1yDWPHbWfHX/zxqvc3/c7mnH1/j8e/r47fp/T0qY/T7/SW986baIB/zZjqA8B0IwoIooAgCgiigCAKCMNTfQCmztD8+eX20c2Hltszy28vt1WXrSq3mS9t+G8Hm2JuCgiigCAKCKKAIAoIooDgSXaAbb70iHL74Kw15Xb06yvLbXS4N5kjTQtuCgiigCAKCKKAIAoIooDgSbbjhkcXlttjV95Sbvf9XD/XHnLBu5M50rTnpoAgCgiigCAKCKKAIAoInmQ77pfj9y+3RTNnldvlXx1Tbns0myZzpGnPTQFBFBBEAUEUEEQBQRQQPMl23OYV4+W2dcfv5fbL4/Vv1454koXBIgoIooAgCgiigCAKCJ5kO2Bov5FyW3fabeX24tgB5TZy7/pJnWl35qaAIAoIooAgCgiigCAKCJ5kO6A3XP9rHB2a8z+epBvcFBBEAUEUEEQBQRQQRAHBk2wHjI/u19fP3fHFsnLbq/m83+Ps9twUEEQBQRQQRAFBFBBEAcGTbB/GViwtt7/m9Mpt3w3fl9v4J5/1fZ4ty+b293Ob6i88WORJFviHKCCIAoIoIIgCgiggDPSTbNt3sH7zQL29ueSucpvR1E+yv078UW7HPHdluTVN0yy67O1y+23JWOvPVg5cW591kLkpIIgCgiggiAKCKCCIAkL3n2R79bPjjsdnldsbix8pt8OfWFVu8zfWnze2oN7eXbm63JqmaV75dEG5bfztz3L7drx+rp29ZVu5TbSeptvcFBBEAUEUEEQBQRQQRAGh80+yYytOKLd1i+8utyPvr39r9bDr1vd1lvr3bpvmzE1Xtf7sizfdWm7n7PVTua37vf5Sg4l3Pmj9zEHlpoAgCgiigCAKCKKAIAoInX+S/WpF/RukbQ5e++tOPkm7uQ+/2bqfMXR1ua2/4c6dfZyB5qaAIAoIooAgCgiigCAKCKKA0Pn/T3H24R+W25Pb5pfb0Mebym18Uifqz8hTG+vxhv/vHIPATQFBFBBEAUEUEEQBQRQQOv8k22Z0+Mdy6+2zd/2DW7fugtMwXbgpIIgCgiggiAKCKCCIAsJAP8meuGe9bV+4bz1u3rLzD7OLLN2z/rt2O049ttxmvPbOrjjObsFNAUEUEEQBQRQQRAFBFBA6/yT76tPH1ePK+m/XbT69/i3Z/d+azIn68/VFR7Wsr5XL7N4e5bb1wFnlNu8/nKmr3BQQRAFBFBBEAUEUEEQBofNPsgff80m5vXDJnHJ744rV5XbWl1eV2z6Ptv/tusrwQQe07huuvaOvf26bb0/ZXm7zHtrpH7fbcFNAEAUEUUAQBQRRQBAFhM4/yY5//0O53XjNxeX20Or6Sfblm9eU28nnX1pu276YW27Pn1t/XtM0zfam/m3XY9fXn/n+SQ+W27z3ZrZ+5qByU0AQBQRRQBAFBFFAEAWE3vLeeRNTfYjpaHzZknIbvu6bcnt28dq+Pm+o1/7fpyXXryy3BQ/U3/v63YX198WO3N/yDQw7xlvP02VuCgiigCAKCKKAIAoIooDgSRaCmwKCKCCIAoIoIIgCgiggiAKCKCCIAoIoIIgCgiggiAKCKCCIAoIoIIgCgiggiAKCKCCIAoIoIIgCgiggiAKCKCCIAoIoIIgCgiggiAKCKCCIAoIoIIgCgiggiAKCKCCIAoIoIIgCgiggiAKCKCCIAoIoIIgCgigg/A1ZSa7sVldjhgAAAABJRU5ErkJggg==\" y=\"-22.259301\"/>\n   </g>\n   <g id=\"text_3\">\n    <!-- Number: 9 -->\n    <g transform=\"translate(546.585662 16.318125)scale(0.12 -0.12)\">\n     <defs>\n      <path d=\"M 10.984375 1.515625 \nL 10.984375 10.5 \nQ 14.703125 8.734375 18.5 7.8125 \nQ 22.3125 6.890625 25.984375 6.890625 \nQ 35.75 6.890625 40.890625 13.453125 \nQ 46.046875 20.015625 46.78125 33.40625 \nQ 43.953125 29.203125 39.59375 26.953125 \nQ 35.25 24.703125 29.984375 24.703125 \nQ 19.046875 24.703125 12.671875 31.3125 \nQ 6.296875 37.9375 6.296875 49.421875 \nQ 6.296875 60.640625 12.9375 67.421875 \nQ 19.578125 74.21875 30.609375 74.21875 \nQ 43.265625 74.21875 49.921875 64.515625 \nQ 56.59375 54.828125 56.59375 36.375 \nQ 56.59375 19.140625 48.40625 8.859375 \nQ 40.234375 -1.421875 26.421875 -1.421875 \nQ 22.703125 -1.421875 18.890625 -0.6875 \nQ 15.09375 0.046875 10.984375 1.515625 \nz\nM 30.609375 32.421875 \nQ 37.25 32.421875 41.125 36.953125 \nQ 45.015625 41.5 45.015625 49.421875 \nQ 45.015625 57.28125 41.125 61.84375 \nQ 37.25 66.40625 30.609375 66.40625 \nQ 23.96875 66.40625 20.09375 61.84375 \nQ 16.21875 57.28125 16.21875 49.421875 \nQ 16.21875 41.5 20.09375 36.953125 \nQ 23.96875 32.421875 30.609375 32.421875 \nz\n\" id=\"DejaVuSans-57\"/>\n     </defs>\n     <use xlink:href=\"#DejaVuSans-78\"/>\n     <use x=\"74.804688\" xlink:href=\"#DejaVuSans-117\"/>\n     <use x=\"138.183594\" xlink:href=\"#DejaVuSans-109\"/>\n     <use x=\"235.595703\" xlink:href=\"#DejaVuSans-98\"/>\n     <use x=\"299.072266\" xlink:href=\"#DejaVuSans-101\"/>\n     <use x=\"360.595703\" xlink:href=\"#DejaVuSans-114\"/>\n     <use x=\"399.958984\" xlink:href=\"#DejaVuSans-58\"/>\n     <use x=\"433.650391\" xlink:href=\"#DejaVuSans-32\"/>\n     <use x=\"465.4375\" xlink:href=\"#DejaVuSans-57\"/>\n    </g>\n   </g>\n  </g>\n </g>\n <defs>\n  <clipPath id=\"p7262027cb9\">\n   <rect height=\"196.941176\" width=\"196.941176\" x=\"7.2\" y=\"22.318125\"/>\n  </clipPath>\n  <clipPath id=\"p5eba0255b0\">\n   <rect height=\"196.941176\" width=\"196.941176\" x=\"243.529412\" y=\"22.318125\"/>\n  </clipPath>\n  <clipPath id=\"pf5cc2f95e2\">\n   <rect height=\"196.941176\" width=\"196.941176\" x=\"479.858824\" y=\"22.318125\"/>\n  </clipPath>\n </defs>\n</svg>\n",
      "image/png": "[encoded data removed]"
     },
     "metadata": {
      "needs_background": "light"
     }
    }
   ],
   "source": [
    "# Model / data parameters\n",
    "num_classes = 10\n",
    "input_shape = (28, 28, 1)\n",
    "\n",
    "# the data, split between train and test sets\n",
    "(x_train, y_train), (x_test, y_test) = keras.datasets.mnist.load_data()\n",
    "\n",
    "# transform only a sample of the data\n",
    "(x_augment, y_augment), (x_train, y_train) = sample((x_train, y_train), 0.1)\n",
    "\n",
    "# normalise training data\n",
    "x_train = normalise(x_train)\n",
    "x_augment = normalise(x_augment)\n",
    "x_test = normalise(x_test)\n",
    "\n",
    "print_dataset_summary(\"x_augment\", x_augment)\n",
    "\n",
    "# augment data\n",
    "# asdfasdf\n",
    "view_images(choice((x_augment, y_augment), 3), (12, 12))\n",
    "\n",
    "# put it all back together again\n",
    "print_dataset_summary(\"x_train\", x_train)\n",
    "print_dataset_summary(\"y_train\", y_train)\n",
    "x_train = np.concatenate((x_train, x_augment))\n",
    "y_train = np.concatenate((y_train, y_augment))\n",
    "\n",
    "print_dataset_summary(\"x_train\", x_train)\n",
    "print_dataset_summary(\"y_train\", y_train)\n",
    "print_dataset_summary(\"x_test\", x_test)\n",
    "\n",
    "# convert class vectors to binary class matrices\n",
    "y_train = keras.utils.to_categorical(y_train, num_classes)\n",
    "y_test = keras.utils.to_categorical(y_test, num_classes)\n",
    "\n",
    "assert y_train.shape[0] == x_train.shape[0]"
   ]
  },
  {
   "cell_type": "code",
   "execution_count": 7,
   "metadata": {},
   "outputs": [
    {
     "output_type": "stream",
     "name": "stdout",
     "text": [
      "Model: \"sequential\"\n_________________________________________________________________\nLayer (type)                 Output Shape              Param #   \n=================================================================\nconv2d (Conv2D)              (None, 26, 26, 32)        320       \n_________________________________________________________________\nmax_pooling2d (MaxPooling2D) (None, 13, 13, 32)        0         \n_________________________________________________________________\nconv2d_1 (Conv2D)            (None, 11, 11, 64)        18496     \n_________________________________________________________________\nmax_pooling2d_1 (MaxPooling2 (None, 5, 5, 64)          0         \n_________________________________________________________________\nflatten (Flatten)            (None, 1600)              0         \n_________________________________________________________________\ndropout (Dropout)            (None, 1600)              0         \n_________________________________________________________________\ndense (Dense)                (None, 10)                16010     \n=================================================================\nTotal params: 34,826\nTrainable params: 34,826\nNon-trainable params: 0\n_________________________________________________________________\n"
     ]
    }
   ],
   "source": [
    "model = keras.Sequential(\n",
    "    [\n",
    "        keras.Input(shape=input_shape),\n",
    "        layers.Conv2D(32, kernel_size=(3, 3), activation=\"relu\"),\n",
    "        layers.MaxPooling2D(pool_size=(2, 2)),\n",
    "        layers.Conv2D(64, kernel_size=(3, 3), activation=\"relu\"),\n",
    "        layers.MaxPooling2D(pool_size=(2, 2)),\n",
    "        layers.Flatten(),\n",
    "        layers.Dropout(0.5),\n",
    "        layers.Dense(num_classes, activation=\"softmax\"),\n",
    "    ]\n",
    ")\n",
    "\n",
    "model.summary()"
   ]
  },
  {
   "cell_type": "code",
   "execution_count": 8,
   "metadata": {},
   "outputs": [
    {
     "output_type": "stream",
     "name": "stdout",
     "text": [
      "Epoch 1/15\n",
      "43/43 [==============================] - 1s 24ms/step - loss: 1.9625 - accuracy: 0.3715 - val_loss: 0.4617 - val_accuracy: 0.8850\n",
      "Epoch 2/15\n",
      "43/43 [==============================] - 1s 17ms/step - loss: 0.6332 - accuracy: 0.7943 - val_loss: 0.2570 - val_accuracy: 0.9233\n",
      "Epoch 3/15\n",
      "43/43 [==============================] - 1s 17ms/step - loss: 0.3754 - accuracy: 0.8876 - val_loss: 0.1740 - val_accuracy: 0.9583\n",
      "Epoch 4/15\n",
      "43/43 [==============================] - 1s 17ms/step - loss: 0.2636 - accuracy: 0.9241 - val_loss: 0.1443 - val_accuracy: 0.9650\n",
      "Epoch 5/15\n",
      "43/43 [==============================] - 1s 17ms/step - loss: 0.2098 - accuracy: 0.9388 - val_loss: 0.1306 - val_accuracy: 0.9683\n",
      "Epoch 6/15\n",
      "43/43 [==============================] - 1s 16ms/step - loss: 0.1893 - accuracy: 0.9427 - val_loss: 0.1075 - val_accuracy: 0.9733\n",
      "Epoch 7/15\n",
      "43/43 [==============================] - 1s 16ms/step - loss: 0.1649 - accuracy: 0.9515 - val_loss: 0.1055 - val_accuracy: 0.9717\n",
      "Epoch 8/15\n",
      "43/43 [==============================] - 1s 16ms/step - loss: 0.1549 - accuracy: 0.9552 - val_loss: 0.0870 - val_accuracy: 0.9767\n",
      "Epoch 9/15\n",
      "43/43 [==============================] - 1s 17ms/step - loss: 0.1312 - accuracy: 0.9609 - val_loss: 0.0973 - val_accuracy: 0.9667\n",
      "Epoch 10/15\n",
      "43/43 [==============================] - 1s 16ms/step - loss: 0.1179 - accuracy: 0.9624 - val_loss: 0.0857 - val_accuracy: 0.9733\n",
      "Epoch 11/15\n",
      "43/43 [==============================] - 1s 17ms/step - loss: 0.1162 - accuracy: 0.9609 - val_loss: 0.0828 - val_accuracy: 0.9783\n",
      "Epoch 12/15\n",
      "43/43 [==============================] - 1s 16ms/step - loss: 0.1021 - accuracy: 0.9671 - val_loss: 0.0826 - val_accuracy: 0.9750\n",
      "Epoch 13/15\n",
      "43/43 [==============================] - 1s 17ms/step - loss: 0.0975 - accuracy: 0.9702 - val_loss: 0.0707 - val_accuracy: 0.9800\n",
      "Epoch 14/15\n",
      "43/43 [==============================] - 1s 17ms/step - loss: 0.0983 - accuracy: 0.9702 - val_loss: 0.0683 - val_accuracy: 0.9767\n",
      "Epoch 15/15\n",
      "43/43 [==============================] - 1s 17ms/step - loss: 0.0911 - accuracy: 0.9705 - val_loss: 0.0811 - val_accuracy: 0.9783\n"
     ]
    },
    {
     "output_type": "execute_result",
     "data": {
      "text/plain": [
       "<tensorflow.python.keras.callbacks.History at 0x7f764b973430>"
      ]
     },
     "metadata": {},
     "execution_count": 8
    }
   ],
   "source": [
    "batch_size = 128\n",
    "epochs = 15\n",
    "\n",
    "model.compile(loss=\"categorical_crossentropy\", optimizer=\"adam\", metrics=[\"accuracy\"])\n",
    "\n",
    "model.fit(x_train, y_train, batch_size=batch_size, epochs=epochs, validation_split=0.1)"
   ]
  },
  {
   "cell_type": "code",
   "execution_count": 9,
   "metadata": {},
   "outputs": [
    {
     "output_type": "stream",
     "name": "stdout",
     "text": [
      "Test loss: 0.08510737866163254\nTest accuracy: 0.9735999703407288\n"
     ]
    }
   ],
   "source": [
    "score = model.evaluate(x_test, y_test, verbose=0)\n",
    "print(\"Test loss:\", score[0])\n",
    "print(\"Test accuracy:\", score[1])"
   ]
  },
  {
   "cell_type": "code",
   "execution_count": null,
   "metadata": {},
   "outputs": [],
   "source": []
  }
 ]
}