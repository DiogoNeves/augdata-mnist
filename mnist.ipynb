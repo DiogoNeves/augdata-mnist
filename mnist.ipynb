{
 "metadata": {
  "language_info": {
   "codemirror_mode": {
    "name": "ipython",
    "version": 3
   },
   "file_extension": ".py",
   "mimetype": "text/x-python",
   "name": "python",
   "nbconvert_exporter": "python",
   "pygments_lexer": "ipython3",
   "version": "3.8.5-final"
  },
  "orig_nbformat": 2,
  "kernelspec": {
   "name": "python38564bitvenvd2c6aa757a7a4182b77f6419bbecc6c9",
   "display_name": "Python 3.8.5 64-bit ('.venv')",
   "language": "python"
  }
 },
 "nbformat": 4,
 "nbformat_minor": 2,
 "cells": [
  {
   "cell_type": "code",
   "execution_count": 100,
   "metadata": {},
   "outputs": [],
   "source": [
    "import numpy as np\n",
    "from tensorflow import keras\n",
    "from tensorflow.keras import layers\n",
    "\n",
    "np.random.seed(1)"
   ]
  },
  {
   "cell_type": "code",
   "execution_count": 101,
   "metadata": {},
   "outputs": [],
   "source": [
    "def normalise(dataset):\n",
    "    # Scale images to the [0, 1] range\n",
    "    dataset = dataset.astype(\"float32\") / 255\n",
    "    # Make sure images have shape (28, 28, 1)\n",
    "    return np.expand_dims(dataset, -1)"
   ]
  },
  {
   "cell_type": "code",
   "execution_count": 113,
   "metadata": {},
   "outputs": [],
   "source": [
    "def _get_sample_mask(size, fraction):\n",
    "    num_of_samples = np.round(size*fraction).astype(\"int\")\n",
    "    mask = np.ones(size).astype(\"bool\")\n",
    "    mask[:num_of_samples] = False\n",
    "    np.random.default_rng().shuffle(mask)\n",
    "    return mask\n",
    "\n",
    "def sample(dataset, fraction):\n",
    "    num_datapoints = dataset.shape[0]\n",
    "    # Create a mask of 0s and 1s with the right distribution (as requested in fraction)\n",
    "    sample_mask = _get_sample_mask(num_datapoints, fraction)\n",
    "    # Sample from the dataset, using the mask\n",
    "    sampled = dataset.compress(sample_mask, axis=0)\n",
    "    # Flip the mask and do it again to get the not sampled\n",
    "    not_sampled = dataset.compress(1 - sample_mask, axis=0)\n",
    "    \"\"\" Example\n",
    "    If original dataset is: [1, 2, 3, 4, 5] with a fraction of 0.2\n",
    "    We might get a sample_mask like [0, 0, 1, 0, 0].\n",
    "\n",
    "    sampled will thus be [3]\n",
    "    and not_sampled [1, 2, 4, 5], by flipping the bits to [1, 1, 0, 1, 1]\n",
    "    \"\"\"\n",
    "    return sampled, not_sampled"
   ]
  },
  {
   "cell_type": "code",
   "execution_count": 114,
   "metadata": {},
   "outputs": [],
   "source": [
    "def print_dataset_summary(name, dataset):\n",
    "    print(name + \" shape:\", dataset.shape)"
   ]
  },
  {
   "cell_type": "code",
   "execution_count": 117,
   "metadata": {},
   "outputs": [
    {
     "output_type": "stream",
     "name": "stdout",
     "text": [
      "before sample shape: (60000, 28, 28, 1)\nx_train shape: (6000, 28, 28, 1)\nx_test shape: (10000, 28, 28, 1)\nto_augment shape: (54000, 28, 28, 1)\n"
     ]
    }
   ],
   "source": [
    "# Model / data parameters\n",
    "num_classes = 10\n",
    "input_shape = (28, 28, 1)\n",
    "\n",
    "# the data, split between train and test sets\n",
    "(x_train, y_train), (x_test, y_test) = keras.datasets.mnist.load_data()\n",
    "\n",
    "# normalise training data\n",
    "x_train = normalise(x_train)\n",
    "x_test = normalise(x_test)\n",
    "\n",
    "# transform only a sample of the data\n",
    "print_dataset_summary(\"before sample\", x_train)\n",
    "to_augment, x_train = sample(x_train, 0.1)\n",
    "\n",
    "print_dataset_summary(\"x_train\", x_train)\n",
    "print_dataset_summary(\"x_test\", x_test)\n",
    "print_dataset_summary(\"to_augment\", to_augment)\n",
    "\n",
    "# convert class vectors to binary class matrices\n",
    "y_train = keras.utils.to_categorical(y_train, num_classes)\n",
    "y_test = keras.utils.to_categorical(y_test, num_classes)"
   ]
  },
  {
   "cell_type": "code",
   "execution_count": 3,
   "metadata": {},
   "outputs": [
    {
     "output_type": "stream",
     "name": "stdout",
     "text": [
      "Model: \"sequential\"\n_________________________________________________________________\nLayer (type)                 Output Shape              Param #   \n=================================================================\nconv2d (Conv2D)              (None, 26, 26, 32)        320       \n_________________________________________________________________\nmax_pooling2d (MaxPooling2D) (None, 13, 13, 32)        0         \n_________________________________________________________________\nconv2d_1 (Conv2D)            (None, 11, 11, 64)        18496     \n_________________________________________________________________\nmax_pooling2d_1 (MaxPooling2 (None, 5, 5, 64)          0         \n_________________________________________________________________\nflatten (Flatten)            (None, 1600)              0         \n_________________________________________________________________\ndropout (Dropout)            (None, 1600)              0         \n_________________________________________________________________\ndense (Dense)                (None, 10)                16010     \n=================================================================\nTotal params: 34,826\nTrainable params: 34,826\nNon-trainable params: 0\n_________________________________________________________________\n"
     ]
    }
   ],
   "source": [
    "model = keras.Sequential(\n",
    "    [\n",
    "        keras.Input(shape=input_shape),\n",
    "        layers.Conv2D(32, kernel_size=(3, 3), activation=\"relu\"),\n",
    "        layers.MaxPooling2D(pool_size=(2, 2)),\n",
    "        layers.Conv2D(64, kernel_size=(3, 3), activation=\"relu\"),\n",
    "        layers.MaxPooling2D(pool_size=(2, 2)),\n",
    "        layers.Flatten(),\n",
    "        layers.Dropout(0.5),\n",
    "        layers.Dense(num_classes, activation=\"softmax\"),\n",
    "    ]\n",
    ")\n",
    "\n",
    "model.summary()"
   ]
  },
  {
   "cell_type": "code",
   "execution_count": 4,
   "metadata": {},
   "outputs": [
    {
     "output_type": "stream",
     "name": "stdout",
     "text": [
      "Epoch 1/15\n",
      "422/422 [==============================] - 7s 16ms/step - loss: 0.7433 - accuracy: 0.7715 - val_loss: 0.0820 - val_accuracy: 0.9787\n",
      "Epoch 2/15\n",
      "422/422 [==============================] - 7s 16ms/step - loss: 0.1202 - accuracy: 0.9622 - val_loss: 0.0551 - val_accuracy: 0.9842\n",
      "Epoch 3/15\n",
      "422/422 [==============================] - 7s 16ms/step - loss: 0.0900 - accuracy: 0.9720 - val_loss: 0.0480 - val_accuracy: 0.9858\n",
      "Epoch 4/15\n",
      "422/422 [==============================] - 7s 16ms/step - loss: 0.0672 - accuracy: 0.9792 - val_loss: 0.0438 - val_accuracy: 0.9878\n",
      "Epoch 5/15\n",
      "422/422 [==============================] - 7s 16ms/step - loss: 0.0633 - accuracy: 0.9801 - val_loss: 0.0393 - val_accuracy: 0.9895\n",
      "Epoch 6/15\n",
      "422/422 [==============================] - 7s 16ms/step - loss: 0.0557 - accuracy: 0.9831 - val_loss: 0.0356 - val_accuracy: 0.9903\n",
      "Epoch 7/15\n",
      "422/422 [==============================] - 7s 16ms/step - loss: 0.0519 - accuracy: 0.9841 - val_loss: 0.0327 - val_accuracy: 0.9920\n",
      "Epoch 8/15\n",
      "422/422 [==============================] - 7s 15ms/step - loss: 0.0500 - accuracy: 0.9847 - val_loss: 0.0316 - val_accuracy: 0.9920\n",
      "Epoch 9/15\n",
      "422/422 [==============================] - 6s 15ms/step - loss: 0.0425 - accuracy: 0.9869 - val_loss: 0.0305 - val_accuracy: 0.9913\n",
      "Epoch 10/15\n",
      "422/422 [==============================] - 6s 15ms/step - loss: 0.0425 - accuracy: 0.9866 - val_loss: 0.0278 - val_accuracy: 0.9923\n",
      "Epoch 11/15\n",
      "422/422 [==============================] - 7s 16ms/step - loss: 0.0386 - accuracy: 0.9878 - val_loss: 0.0294 - val_accuracy: 0.9920\n",
      "Epoch 12/15\n",
      "422/422 [==============================] - 7s 15ms/step - loss: 0.0378 - accuracy: 0.9872 - val_loss: 0.0276 - val_accuracy: 0.9928\n",
      "Epoch 13/15\n",
      "422/422 [==============================] - 7s 15ms/step - loss: 0.0349 - accuracy: 0.9889 - val_loss: 0.0285 - val_accuracy: 0.9915\n",
      "Epoch 14/15\n",
      "422/422 [==============================] - 7s 15ms/step - loss: 0.0351 - accuracy: 0.9882 - val_loss: 0.0291 - val_accuracy: 0.9915\n",
      "Epoch 15/15\n",
      "422/422 [==============================] - 7s 16ms/step - loss: 0.0316 - accuracy: 0.9893 - val_loss: 0.0262 - val_accuracy: 0.9920\n"
     ]
    },
    {
     "output_type": "execute_result",
     "data": {
      "text/plain": [
       "<tensorflow.python.keras.callbacks.History at 0x7fa08b377670>"
      ]
     },
     "metadata": {},
     "execution_count": 4
    }
   ],
   "source": [
    "batch_size = 128\n",
    "epochs = 15\n",
    "\n",
    "model.compile(loss=\"categorical_crossentropy\", optimizer=\"adam\", metrics=[\"accuracy\"])\n",
    "\n",
    "model.fit(x_train, y_train, batch_size=batch_size, epochs=epochs, validation_split=0.1)"
   ]
  },
  {
   "cell_type": "code",
   "execution_count": 5,
   "metadata": {},
   "outputs": [
    {
     "output_type": "stream",
     "name": "stdout",
     "text": [
      "Test loss: 0.024920795112848282\nTest accuracy: 0.9922000169754028\n"
     ]
    }
   ],
   "source": [
    "score = model.evaluate(x_test, y_test, verbose=0)\n",
    "print(\"Test loss:\", score[0])\n",
    "print(\"Test accuracy:\", score[1])"
   ]
  },
  {
   "cell_type": "code",
   "execution_count": null,
   "metadata": {},
   "outputs": [],
   "source": []
  }
 ]
}