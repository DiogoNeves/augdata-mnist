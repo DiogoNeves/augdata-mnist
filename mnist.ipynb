{
 "metadata": {
  "language_info": {
   "codemirror_mode": {
    "name": "ipython",
    "version": 3
   },
   "file_extension": ".py",
   "mimetype": "text/x-python",
   "name": "python",
   "nbconvert_exporter": "python",
   "pygments_lexer": "ipython3",
   "version": "3.8.5-final"
  },
  "orig_nbformat": 2,
  "kernelspec": {
   "name": "python38564bitvenvd2c6aa757a7a4182b77f6419bbecc6c9",
   "display_name": "Python 3.8.5 64-bit ('.venv')",
   "language": "python"
  }
 },
 "nbformat": 4,
 "nbformat_minor": 2,
 "cells": [
  {
   "cell_type": "code",
   "execution_count": 78,
   "metadata": {},
   "outputs": [
    {
     "output_type": "error",
     "ename": "ImportError",
     "evalue": "cannot import name 'set_random_seed' from 'tensorflow' (/home/diogo/Projects/learning/keras001/.venv/lib/python3.8/site-packages/tensorflow/__init__.py)",
     "traceback": [
      "\u001b[0;31m---------------------------------------------------------------------------\u001b[0m",
      "\u001b[0;31mImportError\u001b[0m                               Traceback (most recent call last)",
      "\u001b[0;32m<ipython-input-78-44ba7f0b7748>\u001b[0m in \u001b[0;36m<module>\u001b[0;34m\u001b[0m\n\u001b[1;32m      1\u001b[0m \u001b[0;32mimport\u001b[0m \u001b[0mnumpy\u001b[0m \u001b[0;32mas\u001b[0m \u001b[0mnp\u001b[0m\u001b[0;34m\u001b[0m\u001b[0;34m\u001b[0m\u001b[0m\n\u001b[0;32m----> 2\u001b[0;31m \u001b[0;32mfrom\u001b[0m \u001b[0mtensorflow\u001b[0m \u001b[0;32mimport\u001b[0m \u001b[0mset_random_seed\u001b[0m\u001b[0;34m\u001b[0m\u001b[0;34m\u001b[0m\u001b[0m\n\u001b[0m\u001b[1;32m      3\u001b[0m \u001b[0;32mfrom\u001b[0m \u001b[0mtensorflow\u001b[0m \u001b[0;32mimport\u001b[0m \u001b[0mkeras\u001b[0m\u001b[0;34m\u001b[0m\u001b[0;34m\u001b[0m\u001b[0m\n\u001b[1;32m      4\u001b[0m \u001b[0;32mfrom\u001b[0m \u001b[0mtensorflow\u001b[0m\u001b[0;34m.\u001b[0m\u001b[0mkeras\u001b[0m \u001b[0;32mimport\u001b[0m \u001b[0mlayers\u001b[0m\u001b[0;34m\u001b[0m\u001b[0;34m\u001b[0m\u001b[0m\n\u001b[1;32m      5\u001b[0m \u001b[0;32mimport\u001b[0m \u001b[0mmatplotlib\u001b[0m\u001b[0;34m.\u001b[0m\u001b[0mpyplot\u001b[0m \u001b[0;32mas\u001b[0m \u001b[0mplt\u001b[0m\u001b[0;34m\u001b[0m\u001b[0;34m\u001b[0m\u001b[0m\n",
      "\u001b[0;31mImportError\u001b[0m: cannot import name 'set_random_seed' from 'tensorflow' (/home/diogo/Projects/learning/keras001/.venv/lib/python3.8/site-packages/tensorflow/__init__.py)"
     ]
    }
   ],
   "source": [
    "import numpy as np\n",
    "import tensorflow as tf\n",
    "from tensorflow import set_random_seed\n",
    "from tensorflow import keras\n",
    "from tensorflow.keras import layers\n",
    "from keras import backend as K\n",
    "import matplotlib.pyplot as plt\n",
    "\n",
    "seed_value= 0\n",
    "\n",
    "# 1. Set `PYTHONHASHSEED` environment variable at a fixed value\n",
    "import os\n",
    "os.environ['PYTHONHASHSEED']=str(seed_value)\n",
    "\n",
    "# 2. Set `python` built-in pseudo-random generator at a fixed value\n",
    "import random\n",
    "random.seed(seed_value)\n",
    "\n",
    "# 3. Set `numpy` pseudo-random generator at a fixed value\n",
    "np.random.seed(seed_value)\n",
    "\n",
    "# 4. Set the `tensorflow` pseudo-random generator at a fixed value\n",
    "tf.random.set_seed(seed_value)\n",
    "# for later versions: \n",
    "# tf.compat.v1.set_random_seed(seed_value)\n",
    "\n",
    "# 5. Configure a new global `tensorflow` session\n",
    "session_conf = tf.ConfigProto(intra_op_parallelism_threads=1, inter_op_parallelism_threads=1)\n",
    "sess = tf.Session(graph=tf.get_default_graph(), config=session_conf)\n",
    "K.set_session(sess)"
   ]
  },
  {
   "cell_type": "code",
   "execution_count": 2,
   "metadata": {},
   "outputs": [],
   "source": [
    "def view_images(dataset, size):\n",
    "    images, labels = dataset\n",
    "    assert images.shape[0] == labels.shape[0]\n",
    "\n",
    "    num_images = images.shape[0]\n",
    "    num_cols = 3\n",
    "    num_rows = np.ceil(num_images / num_cols).astype(\"int\")\n",
    "    plt.figure(figsize=size)\n",
    "    for i in range(num_images):\n",
    "        image = images[i]\n",
    "        label = labels[i]\n",
    "        ax = plt.subplot(num_rows, num_cols, i + 1)\n",
    "        plt.imshow(np.array(image, dtype=\"float\"))\n",
    "        plt.title(\"Number: \" + str(label))\n",
    "        plt.axis(\"off\")"
   ]
  },
  {
   "cell_type": "code",
   "execution_count": 3,
   "metadata": {},
   "outputs": [],
   "source": [
    "def normalise(dataset):\n",
    "    # Scale images to the [0, 1] range\n",
    "    dataset = dataset.astype(\"float32\") / 255\n",
    "    # Make sure images have shape (28, 28, 1)\n",
    "    return np.expand_dims(dataset, -1)"
   ]
  },
  {
   "cell_type": "code",
   "execution_count": 4,
   "metadata": {},
   "outputs": [],
   "source": [
    "def sample(dataset, fraction):\n",
    "    def _get_sample_mask():\n",
    "        num_of_samples = np.round(num_datapoints*fraction).astype(\"int\")\n",
    "        mask = np.zeros(num_datapoints, dtype=\"bool\")\n",
    "        mask[:num_of_samples] = True\n",
    "        np.random.default_rng().shuffle(mask)\n",
    "        return mask\n",
    "\n",
    "    x, y = dataset\n",
    "    assert x.shape[0] == y.shape[0]\n",
    "\n",
    "    num_datapoints = x.shape[0]\n",
    "    # Create a mask of 0s and 1s with the right distribution (as requested in fraction)\n",
    "    sample_mask = _get_sample_mask()\n",
    "    # Sample from the dataset, using the mask\n",
    "    x_sampled = x.compress(sample_mask, axis=0)\n",
    "    y_sampled = y.compress(sample_mask, axis=0)\n",
    "    # Flip the mask and do it again to get the not sampled\n",
    "    x_not_sampled = x.compress(1 - sample_mask, axis=0)\n",
    "    y_not_sampled = y.compress(1 - sample_mask, axis=0)\n",
    "    \"\"\" Example\n",
    "    If original dataset is: [1, 2, 3, 4, 5] with a fraction of 0.2\n",
    "    We might get a sample_mask like [0, 0, 1, 0, 0].\n",
    "\n",
    "    sampled will thus be [3]\n",
    "    and not_sampled [1, 2, 4, 5], by flipping the bits to [1, 1, 0, 1, 1]\n",
    "    \"\"\"\n",
    "    return (x_sampled, y_sampled), (x_not_sampled, y_not_sampled)\n",
    "\n",
    "def choice(dataset, size):\n",
    "    x, y = dataset\n",
    "    assert x.shape[0] == y.shape[0]\n",
    "\n",
    "    num_datapoints = x.shape[0]\n",
    "    mask = np.zeros(num_datapoints).astype(\"bool\")\n",
    "    mask[:size] = True\n",
    "    np.random.default_rng().shuffle(mask)\n",
    "    return x.compress(mask, axis=0), y.compress(mask, axis=0)"
   ]
  },
  {
   "cell_type": "code",
   "execution_count": 5,
   "metadata": {},
   "outputs": [],
   "source": [
    "def print_dataset_summary(name, dataset):\n",
    "    print(name + \" shape:\", dataset.shape)"
   ]
  },
  {
   "cell_type": "code",
   "execution_count": 62,
   "metadata": {},
   "outputs": [],
   "source": [
    "def augment(dataset):\n",
    "    augment_model = keras.Sequential(\n",
    "        [\n",
    "            layers.experimental.preprocessing.RandomRotation(0.3),\n",
    "            layers.experimental.preprocessing.RandomZoom(0.1),\n",
    "            layers.experimental.preprocessing.RandomTranslation(0.1, 0.1)\n",
    "        ]\n",
    "    )\n",
    "\n",
    "    epochs = 3\n",
    "    augmented_dataset = dataset\n",
    "    x, y = dataset\n",
    "    assert x.shape[0] == y.shape[0]\n",
    "    for i in range(epochs):\n",
    "        data = augment_model(x)\n",
    "        x_augmented, y_augmented = augmented_dataset\n",
    "        augmented_dataset = (np.concatenate((x_augmented, data)), np.concatenate((y_augmented, y)))\n",
    "    \n",
    "    return augmented_dataset"
   ]
  },
  {
   "cell_type": "code",
   "execution_count": 73,
   "metadata": {
    "tags": []
   },
   "outputs": [
    {
     "output_type": "stream",
     "name": "stdout",
     "text": [
      "x_small shape: (10000, 28, 28, 1)\n",
      "x_train shape: (60000, 28, 28, 1)\n",
      "y_train shape: (60000,)\n",
      "x_test shape: (10000, 28, 28, 1)\n",
      "x_augmented shape: (240000, 28, 28, 1)\n",
      "y_augmented shape: (240000,)\n"
     ]
    },
    {
     "output_type": "display_data",
     "data": {
      "text/plain": "<Figure size 864x864 with 3 Axes>",
      "image/svg+xml": "<?xml version=\"1.0\" encoding=\"utf-8\" standalone=\"no\"?>\n<!DOCTYPE svg PUBLIC \"-//W3C//DTD SVG 1.1//EN\"\n  \"http://www.w3.org/Graphics/SVG/1.1/DTD/svg11.dtd\">\n<!-- Created with matplotlib (https://matplotlib.org/) -->\n<svg height=\"226.459301pt\" version=\"1.1\" viewBox=\"0 0 684 226.459301\" width=\"684pt\" xmlns=\"http://www.w3.org/2000/svg\" xmlns:xlink=\"http://www.w3.org/1999/xlink\">\n <metadata>\n  <rdf:RDF xmlns:cc=\"http://creativecommons.org/ns#\" xmlns:dc=\"http://purl.org/dc/elements/1.1/\" xmlns:rdf=\"http://www.w3.org/1999/02/22-rdf-syntax-ns#\">\n   <cc:Work>\n    <dc:type rdf:resource=\"http://purl.org/dc/dcmitype/StillImage\"/>\n    <dc:date>2021-03-29T23:52:03.972898</dc:date>\n    <dc:format>image/svg+xml</dc:format>\n    <dc:creator>\n     <cc:Agent>\n      <dc:title>Matplotlib v3.3.4, https://matplotlib.org/</dc:title>\n     </cc:Agent>\n    </dc:creator>\n   </cc:Work>\n  </rdf:RDF>\n </metadata>\n <defs>\n  <style type=\"text/css\">*{stroke-linecap:butt;stroke-linejoin:round;}</style>\n </defs>\n <g id=\"figure_1\">\n  <g id=\"patch_1\">\n   <path d=\"M 0 226.459301 \nL 684 226.459301 \nL 684 0 \nL 0 0 \nz\n\" style=\"fill:none;\"/>\n  </g>\n  <g id=\"axes_1\">\n   <g clip-path=\"url(#p213d154e4d)\">\n    <image height=\"197\" id=\"image7614bfc90b\" transform=\"scale(1 -1)translate(0 -197)\" width=\"197\" x=\"7.2\" xlink:href=\"data:image/png;base64,\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\" y=\"-22.259301\"/>\n   </g>\n   <g id=\"text_1\">\n    <!-- Number: 3 -->\n    <g transform=\"translate(73.926838 16.318125)scale(0.12 -0.12)\">\n     <defs>\n      <path d=\"M 9.8125 72.90625 \nL 23.09375 72.90625 \nL 55.421875 11.921875 \nL 55.421875 72.90625 \nL 64.984375 72.90625 \nL 64.984375 0 \nL 51.703125 0 \nL 19.390625 60.984375 \nL 19.390625 0 \nL 9.8125 0 \nz\n\" id=\"DejaVuSans-78\"/>\n      <path d=\"M 8.5 21.578125 \nL 8.5 54.6875 \nL 17.484375 54.6875 \nL 17.484375 21.921875 \nQ 17.484375 14.15625 20.5 10.265625 \nQ 23.53125 6.390625 29.59375 6.390625 \nQ 36.859375 6.390625 41.078125 11.03125 \nQ 45.3125 15.671875 45.3125 23.6875 \nL 45.3125 54.6875 \nL 54.296875 54.6875 \nL 54.296875 0 \nL 45.3125 0 \nL 45.3125 8.40625 \nQ 42.046875 3.421875 37.71875 1 \nQ 33.40625 -1.421875 27.6875 -1.421875 \nQ 18.265625 -1.421875 13.375 4.4375 \nQ 8.5 10.296875 8.5 21.578125 \nz\nM 31.109375 56 \nz\n\" id=\"DejaVuSans-117\"/>\n      <path d=\"M 52 44.1875 \nQ 55.375 50.25 60.0625 53.125 \nQ 64.75 56 71.09375 56 \nQ 79.640625 56 84.28125 50.015625 \nQ 88.921875 44.046875 88.921875 33.015625 \nL 88.921875 0 \nL 79.890625 0 \nL 79.890625 32.71875 \nQ 79.890625 40.578125 77.09375 44.375 \nQ 74.3125 48.1875 68.609375 48.1875 \nQ 61.625 48.1875 57.5625 43.546875 \nQ 53.515625 38.921875 53.515625 30.90625 \nL 53.515625 0 \nL 44.484375 0 \nL 44.484375 32.71875 \nQ 44.484375 40.625 41.703125 44.40625 \nQ 38.921875 48.1875 33.109375 48.1875 \nQ 26.21875 48.1875 22.15625 43.53125 \nQ 18.109375 38.875 18.109375 30.90625 \nL 18.109375 0 \nL 9.078125 0 \nL 9.078125 54.6875 \nL 18.109375 54.6875 \nL 18.109375 46.1875 \nQ 21.1875 51.21875 25.484375 53.609375 \nQ 29.78125 56 35.6875 56 \nQ 41.65625 56 45.828125 52.96875 \nQ 50 49.953125 52 44.1875 \nz\n\" id=\"DejaVuSans-109\"/>\n      <path d=\"M 48.6875 27.296875 \nQ 48.6875 37.203125 44.609375 42.84375 \nQ 40.53125 48.484375 33.40625 48.484375 \nQ 26.265625 48.484375 22.1875 42.84375 \nQ 18.109375 37.203125 18.109375 27.296875 \nQ 18.109375 17.390625 22.1875 11.75 \nQ 26.265625 6.109375 33.40625 6.109375 \nQ 40.53125 6.109375 44.609375 11.75 \nQ 48.6875 17.390625 48.6875 27.296875 \nz\nM 18.109375 46.390625 \nQ 20.953125 51.265625 25.265625 53.625 \nQ 29.59375 56 35.59375 56 \nQ 45.5625 56 51.78125 48.09375 \nQ 58.015625 40.1875 58.015625 27.296875 \nQ 58.015625 14.40625 51.78125 6.484375 \nQ 45.5625 -1.421875 35.59375 -1.421875 \nQ 29.59375 -1.421875 25.265625 0.953125 \nQ 20.953125 3.328125 18.109375 8.203125 \nL 18.109375 0 \nL 9.078125 0 \nL 9.078125 75.984375 \nL 18.109375 75.984375 \nz\n\" id=\"DejaVuSans-98\"/>\n      <path d=\"M 56.203125 29.59375 \nL 56.203125 25.203125 \nL 14.890625 25.203125 \nQ 15.484375 15.921875 20.484375 11.0625 \nQ 25.484375 6.203125 34.421875 6.203125 \nQ 39.59375 6.203125 44.453125 7.46875 \nQ 49.3125 8.734375 54.109375 11.28125 \nL 54.109375 2.78125 \nQ 49.265625 0.734375 44.1875 -0.34375 \nQ 39.109375 -1.421875 33.890625 -1.421875 \nQ 20.796875 -1.421875 13.15625 6.1875 \nQ 5.515625 13.8125 5.515625 26.8125 \nQ 5.515625 40.234375 12.765625 48.109375 \nQ 20.015625 56 32.328125 56 \nQ 43.359375 56 49.78125 48.890625 \nQ 56.203125 41.796875 56.203125 29.59375 \nz\nM 47.21875 32.234375 \nQ 47.125 39.59375 43.09375 43.984375 \nQ 39.0625 48.390625 32.421875 48.390625 \nQ 24.90625 48.390625 20.390625 44.140625 \nQ 15.875 39.890625 15.1875 32.171875 \nz\n\" id=\"DejaVuSans-101\"/>\n      <path d=\"M 41.109375 46.296875 \nQ 39.59375 47.171875 37.8125 47.578125 \nQ 36.03125 48 33.890625 48 \nQ 26.265625 48 22.1875 43.046875 \nQ 18.109375 38.09375 18.109375 28.8125 \nL 18.109375 0 \nL 9.078125 0 \nL 9.078125 54.6875 \nL 18.109375 54.6875 \nL 18.109375 46.1875 \nQ 20.953125 51.171875 25.484375 53.578125 \nQ 30.03125 56 36.53125 56 \nQ 37.453125 56 38.578125 55.875 \nQ 39.703125 55.765625 41.0625 55.515625 \nz\n\" id=\"DejaVuSans-114\"/>\n      <path d=\"M 11.71875 12.40625 \nL 22.015625 12.40625 \nL 22.015625 0 \nL 11.71875 0 \nz\nM 11.71875 51.703125 \nL 22.015625 51.703125 \nL 22.015625 39.3125 \nL 11.71875 39.3125 \nz\n\" id=\"DejaVuSans-58\"/>\n      <path id=\"DejaVuSans-32\"/>\n      <path d=\"M 40.578125 39.3125 \nQ 47.65625 37.796875 51.625 33 \nQ 55.609375 28.21875 55.609375 21.1875 \nQ 55.609375 10.40625 48.1875 4.484375 \nQ 40.765625 -1.421875 27.09375 -1.421875 \nQ 22.515625 -1.421875 17.65625 -0.515625 \nQ 12.796875 0.390625 7.625 2.203125 \nL 7.625 11.71875 \nQ 11.71875 9.328125 16.59375 8.109375 \nQ 21.484375 6.890625 26.8125 6.890625 \nQ 36.078125 6.890625 40.9375 10.546875 \nQ 45.796875 14.203125 45.796875 21.1875 \nQ 45.796875 27.640625 41.28125 31.265625 \nQ 36.765625 34.90625 28.71875 34.90625 \nL 20.21875 34.90625 \nL 20.21875 43.015625 \nL 29.109375 43.015625 \nQ 36.375 43.015625 40.234375 45.921875 \nQ 44.09375 48.828125 44.09375 54.296875 \nQ 44.09375 59.90625 40.109375 62.90625 \nQ 36.140625 65.921875 28.71875 65.921875 \nQ 24.65625 65.921875 20.015625 65.03125 \nQ 15.375 64.15625 9.8125 62.3125 \nL 9.8125 71.09375 \nQ 15.4375 72.65625 20.34375 73.4375 \nQ 25.25 74.21875 29.59375 74.21875 \nQ 40.828125 74.21875 47.359375 69.109375 \nQ 53.90625 64.015625 53.90625 55.328125 \nQ 53.90625 49.265625 50.4375 45.09375 \nQ 46.96875 40.921875 40.578125 39.3125 \nz\n\" id=\"DejaVuSans-51\"/>\n     </defs>\n     <use xlink:href=\"#DejaVuSans-78\"/>\n     <use x=\"74.804688\" xlink:href=\"#DejaVuSans-117\"/>\n     <use x=\"138.183594\" xlink:href=\"#DejaVuSans-109\"/>\n     <use x=\"235.595703\" xlink:href=\"#DejaVuSans-98\"/>\n     <use x=\"299.072266\" xlink:href=\"#DejaVuSans-101\"/>\n     <use x=\"360.595703\" xlink:href=\"#DejaVuSans-114\"/>\n     <use x=\"399.958984\" xlink:href=\"#DejaVuSans-58\"/>\n     <use x=\"433.650391\" xlink:href=\"#DejaVuSans-32\"/>\n     <use x=\"465.4375\" xlink:href=\"#DejaVuSans-51\"/>\n    </g>\n   </g>\n  </g>\n  <g id=\"axes_2\">\n   <g clip-path=\"url(#p70b36e0e52)\">\n    <image height=\"197\" id=\"imageb03004f48c\" transform=\"scale(1 -1)translate(0 -197)\" width=\"197\" x=\"243.529412\" xlink:href=\"data:image/png;base64,\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\" y=\"-22.259301\"/>\n   </g>\n   <g id=\"text_2\">\n    <!-- Number: 6 -->\n    <g transform=\"translate(310.25625 16.318125)scale(0.12 -0.12)\">\n     <defs>\n      <path d=\"M 33.015625 40.375 \nQ 26.375 40.375 22.484375 35.828125 \nQ 18.609375 31.296875 18.609375 23.390625 \nQ 18.609375 15.53125 22.484375 10.953125 \nQ 26.375 6.390625 33.015625 6.390625 \nQ 39.65625 6.390625 43.53125 10.953125 \nQ 47.40625 15.53125 47.40625 23.390625 \nQ 47.40625 31.296875 43.53125 35.828125 \nQ 39.65625 40.375 33.015625 40.375 \nz\nM 52.59375 71.296875 \nL 52.59375 62.3125 \nQ 48.875 64.0625 45.09375 64.984375 \nQ 41.3125 65.921875 37.59375 65.921875 \nQ 27.828125 65.921875 22.671875 59.328125 \nQ 17.53125 52.734375 16.796875 39.40625 \nQ 19.671875 43.65625 24.015625 45.921875 \nQ 28.375 48.1875 33.59375 48.1875 \nQ 44.578125 48.1875 50.953125 41.515625 \nQ 57.328125 34.859375 57.328125 23.390625 \nQ 57.328125 12.15625 50.6875 5.359375 \nQ 44.046875 -1.421875 33.015625 -1.421875 \nQ 20.359375 -1.421875 13.671875 8.265625 \nQ 6.984375 17.96875 6.984375 36.375 \nQ 6.984375 53.65625 15.1875 63.9375 \nQ 23.390625 74.21875 37.203125 74.21875 \nQ 40.921875 74.21875 44.703125 73.484375 \nQ 48.484375 72.75 52.59375 71.296875 \nz\n\" id=\"DejaVuSans-54\"/>\n     </defs>\n     <use xlink:href=\"#DejaVuSans-78\"/>\n     <use x=\"74.804688\" xlink:href=\"#DejaVuSans-117\"/>\n     <use x=\"138.183594\" xlink:href=\"#DejaVuSans-109\"/>\n     <use x=\"235.595703\" xlink:href=\"#DejaVuSans-98\"/>\n     <use x=\"299.072266\" xlink:href=\"#DejaVuSans-101\"/>\n     <use x=\"360.595703\" xlink:href=\"#DejaVuSans-114\"/>\n     <use x=\"399.958984\" xlink:href=\"#DejaVuSans-58\"/>\n     <use x=\"433.650391\" xlink:href=\"#DejaVuSans-32\"/>\n     <use x=\"465.4375\" xlink:href=\"#DejaVuSans-54\"/>\n    </g>\n   </g>\n  </g>\n  <g id=\"axes_3\">\n   <g clip-path=\"url(#p8d01a681bc)\">\n    <image height=\"197\" id=\"image2d9970a63e\" transform=\"scale(1 -1)translate(0 -197)\" width=\"197\" x=\"479.858824\" xlink:href=\"data:image/png;base64,\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\" y=\"-22.259301\"/>\n   </g>\n   <g id=\"text_3\">\n    <!-- Number: 5 -->\n    <g transform=\"translate(546.585662 16.318125)scale(0.12 -0.12)\">\n     <defs>\n      <path d=\"M 10.796875 72.90625 \nL 49.515625 72.90625 \nL 49.515625 64.59375 \nL 19.828125 64.59375 \nL 19.828125 46.734375 \nQ 21.96875 47.46875 24.109375 47.828125 \nQ 26.265625 48.1875 28.421875 48.1875 \nQ 40.625 48.1875 47.75 41.5 \nQ 54.890625 34.8125 54.890625 23.390625 \nQ 54.890625 11.625 47.5625 5.09375 \nQ 40.234375 -1.421875 26.90625 -1.421875 \nQ 22.3125 -1.421875 17.546875 -0.640625 \nQ 12.796875 0.140625 7.71875 1.703125 \nL 7.71875 11.625 \nQ 12.109375 9.234375 16.796875 8.0625 \nQ 21.484375 6.890625 26.703125 6.890625 \nQ 35.15625 6.890625 40.078125 11.328125 \nQ 45.015625 15.765625 45.015625 23.390625 \nQ 45.015625 31 40.078125 35.4375 \nQ 35.15625 39.890625 26.703125 39.890625 \nQ 22.75 39.890625 18.8125 39.015625 \nQ 14.890625 38.140625 10.796875 36.28125 \nz\n\" id=\"DejaVuSans-53\"/>\n     </defs>\n     <use xlink:href=\"#DejaVuSans-78\"/>\n     <use x=\"74.804688\" xlink:href=\"#DejaVuSans-117\"/>\n     <use x=\"138.183594\" xlink:href=\"#DejaVuSans-109\"/>\n     <use x=\"235.595703\" xlink:href=\"#DejaVuSans-98\"/>\n     <use x=\"299.072266\" xlink:href=\"#DejaVuSans-101\"/>\n     <use x=\"360.595703\" xlink:href=\"#DejaVuSans-114\"/>\n     <use x=\"399.958984\" xlink:href=\"#DejaVuSans-58\"/>\n     <use x=\"433.650391\" xlink:href=\"#DejaVuSans-32\"/>\n     <use x=\"465.4375\" xlink:href=\"#DejaVuSans-53\"/>\n    </g>\n   </g>\n  </g>\n </g>\n <defs>\n  <clipPath id=\"p213d154e4d\">\n   <rect height=\"196.941176\" width=\"196.941176\" x=\"7.2\" y=\"22.318125\"/>\n  </clipPath>\n  <clipPath id=\"p70b36e0e52\">\n   <rect height=\"196.941176\" width=\"196.941176\" x=\"243.529412\" y=\"22.318125\"/>\n  </clipPath>\n  <clipPath id=\"p8d01a681bc\">\n   <rect height=\"196.941176\" width=\"196.941176\" x=\"479.858824\" y=\"22.318125\"/>\n  </clipPath>\n </defs>\n</svg>\n",
      "image/png": "[encoded data removed]"
     },
     "metadata": {
      "needs_background": "light"
     }
    }
   ],
   "source": [
    "# Model / data parameters\n",
    "num_classes = 10\n",
    "input_shape = (28, 28, 1)\n",
    "\n",
    "# the data, split between train and test sets\n",
    "(x_train, y_train), (x_test, y_test) = keras.datasets.mnist.load_data()\n",
    "\n",
    "# transform only a sample of the data\n",
    "(x_small, y_small) = choice((x_train, y_train), 10000)\n",
    "\n",
    "# normalise training data\n",
    "x_train = normalise(x_train)\n",
    "x_small = normalise(x_small)\n",
    "x_test = normalise(x_test)\n",
    "\n",
    "print_dataset_summary(\"x_small\", x_small)\n",
    "print_dataset_summary(\"x_train\", x_train)\n",
    "print_dataset_summary(\"y_train\", y_train)\n",
    "print_dataset_summary(\"x_test\", x_test)\n",
    "\n",
    "# augment data\n",
    "# (x_augmented, y_augmented) = augment((x_small, y_small))\n",
    "(x_augmented, y_augmented) = augment((x_train, y_train))\n",
    "print_dataset_summary(\"x_augmented\", x_augmented)\n",
    "print_dataset_summary(\"y_augmented\", y_augmented)\n",
    "view_images(choice((x_augmented, y_augmented), 3), (12, 12))\n",
    "\n",
    "# convert class vectors to binary class matrices\n",
    "y_train = keras.utils.to_categorical(y_train, num_classes)\n",
    "y_test = keras.utils.to_categorical(y_test, num_classes)\n",
    "\n",
    "assert y_train.shape[0] == x_train.shape[0]"
   ]
  },
  {
   "cell_type": "code",
   "execution_count": 76,
   "metadata": {},
   "outputs": [
    {
     "output_type": "stream",
     "name": "stdout",
     "text": [
      "Epoch 1/5\n",
      "422/422 [==============================] - 7s 16ms/step - loss: 0.7520 - accuracy: 0.7666 - val_loss: 0.0843 - val_accuracy: 0.9770\n",
      "Epoch 2/5\n",
      "422/422 [==============================] - 7s 16ms/step - loss: 0.1219 - accuracy: 0.9624 - val_loss: 0.0606 - val_accuracy: 0.9830\n",
      "Epoch 3/5\n",
      "422/422 [==============================] - 7s 16ms/step - loss: 0.0869 - accuracy: 0.9733 - val_loss: 0.0483 - val_accuracy: 0.9867\n",
      "Epoch 4/5\n",
      "422/422 [==============================] - 7s 15ms/step - loss: 0.0779 - accuracy: 0.9754 - val_loss: 0.0455 - val_accuracy: 0.9873\n",
      "Epoch 5/5\n",
      "422/422 [==============================] - 7s 15ms/step - loss: 0.0608 - accuracy: 0.9811 - val_loss: 0.0391 - val_accuracy: 0.9892\n"
     ]
    },
    {
     "output_type": "execute_result",
     "data": {
      "text/plain": [
       "<tensorflow.python.keras.callbacks.History at 0x7effbd012d60>"
      ]
     },
     "metadata": {},
     "execution_count": 76
    }
   ],
   "source": [
    "batch_size = 128\n",
    "epochs = 5\n",
    "\n",
    "model = keras.Sequential(\n",
    "    [\n",
    "        keras.Input(shape=input_shape),\n",
    "        layers.Conv2D(32, kernel_size=(3, 3), activation=\"relu\"),\n",
    "        layers.MaxPooling2D(pool_size=(2, 2)),\n",
    "        layers.Conv2D(64, kernel_size=(3, 3), activation=\"relu\"),\n",
    "        layers.MaxPooling2D(pool_size=(2, 2)),\n",
    "        layers.Flatten(),\n",
    "        layers.Dropout(0.5),\n",
    "        layers.Dense(num_classes, activation=\"softmax\"),\n",
    "    ]\n",
    ")\n",
    "\n",
    "# model.summary()\n",
    "\n",
    "model.compile(loss=\"categorical_crossentropy\", optimizer=\"adam\", metrics=[\"accuracy\"])\n",
    "\n",
    "model.fit(x_train, y_train, batch_size=batch_size, epochs=epochs, validation_split=0.1)"
   ]
  },
  {
   "cell_type": "code",
   "execution_count": 77,
   "metadata": {},
   "outputs": [
    {
     "output_type": "stream",
     "name": "stdout",
     "text": [
      "Test loss: 0.03464192524552345\nTest accuracy: 0.9887999892234802\n"
     ]
    }
   ],
   "source": [
    "score = model.evaluate(x_test, y_test, verbose=0)\n",
    "print(\"Test loss:\", score[0])\n",
    "print(\"Test accuracy:\", score[1])"
   ]
  },
  {
   "cell_type": "code",
   "execution_count": null,
   "metadata": {},
   "outputs": [],
   "source": []
  }
 ]
}